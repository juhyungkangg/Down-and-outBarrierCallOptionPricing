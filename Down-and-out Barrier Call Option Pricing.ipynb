{
 "cells": [
  {
   "cell_type": "markdown",
   "id": "50d3fc44",
   "metadata": {},
   "source": [
    "# Dynamic Asset Pricing\n",
    "\n",
    "# Homework2\n",
    "\n",
    "Ju Hyung Kang"
   ]
  },
  {
   "cell_type": "markdown",
   "id": "707eef36",
   "metadata": {},
   "source": [
    "## Using Monte Carlo\n",
    "\n",
    "### (a)\n",
    "\n",
    "The value of any (stochasctic) asset is the discounted expected value of its payoff. The payoff of a down-and-out call is\n",
    "\n",
    "$$\n",
    "(S_T-K)_{+} \\mathbb{1}_{S_u \\geq B, \\forall u \\in (t, T)}\n",
    "$$\n",
    "\n",
    "The discount rate should be the risk-free rate since $\\mathbb{E}$ is in the risk neutral measure. Assuming the risk-free rate is constant from $t$ to $T$, the discount factor is $e^{-r(T-t)}$. Considering the information up to time $t$ ($\\mathcal{F}_t$), the value of the option should be\n",
    "\n",
    "$$\n",
    "v_t=e^{-r(T-t)}\\mathbb{E}[(S_T-K)_{+} \\mathbb{1}_{S_u \\geq B, \\forall u \\in (t, T)}|\\mathcal{F}_t]\n",
    "$$"
   ]
  },
  {
   "cell_type": "markdown",
   "id": "197fed58",
   "metadata": {},
   "source": [
    "### (b)"
   ]
  },
  {
   "cell_type": "markdown",
   "id": "ee57fad6",
   "metadata": {},
   "source": [
    "Note that\n",
    "\n",
    "$$\n",
    "S_{t+\\Delta t}-S_t = rS_t \\Delta t+\\sigma S_t(W_{t+ \\Delta t}-W_t)\n",
    "$$\n",
    "\n",
    "where $W_{t+ \\Delta t}-W_t \\sim N(0, \\Delta t)$."
   ]
  },
  {
   "cell_type": "code",
   "execution_count": 1,
   "id": "49a92441",
   "metadata": {},
   "outputs": [],
   "source": [
    "t = 0\n",
    "T = 1\n",
    "r = 0.02\n",
    "sigma = 0.2\n",
    "x = 100\n",
    "B = 80\n",
    "K = 110"
   ]
  },
  {
   "cell_type": "code",
   "execution_count": 2,
   "id": "38f887fa",
   "metadata": {},
   "outputs": [],
   "source": [
    "def S_path(S0, r, sigma, t, T, N):\n",
    "    path = np.zeros(N)\n",
    "    path[0] = S0\n",
    "    dt = (T-t)/N\n",
    "    \n",
    "    for i in range(1, N):\n",
    "        S = path[i-1]\n",
    "        \n",
    "        path[i] = S + r*S*dt + sigma*S*np.random.normal(0, np.sqrt(dt))\n",
    "        \n",
    "    return path"
   ]
  },
  {
   "cell_type": "code",
   "execution_count": 3,
   "id": "99db99d4",
   "metadata": {},
   "outputs": [
    {
     "data": {
      "text/plain": [
       "array([100.        , 100.23959733, 100.29234823, 101.0822914 ,\n",
       "        99.78256239, 101.94567197, 102.73439171, 101.56391453,\n",
       "       101.07921186, 101.94415122, 103.99814569, 103.68803373,\n",
       "       105.21865238, 105.9438547 , 104.44746045, 106.56094415,\n",
       "       106.03906254, 104.88737171, 104.20409833, 104.53830701,\n",
       "       104.59453211, 104.67282464, 105.7171346 , 107.48353046,\n",
       "       109.13257908, 110.11982364, 106.03267479, 105.35141392,\n",
       "       102.32416048, 102.05594954, 100.47643491, 100.54627684,\n",
       "       100.66127686, 102.02268377, 103.7019746 , 105.82877152,\n",
       "       106.47108809, 104.58637164, 105.03329933, 106.13810961,\n",
       "       106.7126972 , 108.46863367, 107.81921736, 105.61394498,\n",
       "       108.5146667 , 109.30297855, 110.67032453, 109.10635906,\n",
       "       107.69301732, 107.78855035, 107.13587496, 106.2732759 ,\n",
       "       104.53822957, 105.53575367, 105.45087133, 106.69966137,\n",
       "       107.14921546, 108.80745631, 105.72379214, 108.4944299 ,\n",
       "       110.56704788, 109.45171175, 109.32483608, 107.89992259,\n",
       "       105.93064913, 107.61287289, 108.81590218, 109.68047066,\n",
       "       110.0947108 , 110.52773092, 108.81918128, 107.39582306,\n",
       "       108.82509517, 109.5032704 , 107.61724607, 107.34318689,\n",
       "       106.43339412, 105.82047585, 106.76612657, 108.16292535,\n",
       "       108.70692569, 105.13950795, 104.6953548 , 106.21160534,\n",
       "       105.5862471 , 104.28639234, 103.29411691, 103.64697354,\n",
       "       102.39318156, 101.86929705, 100.85275626, 102.85034225,\n",
       "       102.55217845, 102.2986594 , 102.45909687, 102.34576174,\n",
       "       101.47941524, 101.91948766, 102.30420796, 103.15335314,\n",
       "       103.22912055, 102.56617504, 101.34454515, 101.42951196,\n",
       "       101.62988341, 100.15324723, 101.68755654, 101.54434995,\n",
       "       103.30474381, 101.01284588, 100.47844354,  99.59454787,\n",
       "        97.70980924,  98.34103959, 100.12660916, 100.46769658,\n",
       "       100.44796791, 102.3973636 , 102.78899773, 103.27788412,\n",
       "       103.03351502, 102.95541067, 102.88276193, 103.37300863,\n",
       "       102.81634706, 104.09061654, 103.096769  , 101.62276896,\n",
       "       101.57981732, 101.45681053, 100.29660355,  99.88611009,\n",
       "       100.51770178, 101.67089645, 101.1680338 , 102.39477931,\n",
       "       105.3635718 , 106.34143438, 107.19877419, 108.48892698,\n",
       "       108.63732747, 110.62750022, 110.26753992, 110.94444245,\n",
       "       109.48722463, 109.56751178, 107.86780448, 108.96327488,\n",
       "       107.21376025, 107.28620229, 107.47614277, 109.11191542,\n",
       "       109.43092805, 108.44398955, 106.86736302, 106.32549414,\n",
       "       103.81894003, 103.32442238, 104.09458328, 102.53172872,\n",
       "       105.113409  , 106.6171671 , 106.10738643, 107.94956736,\n",
       "       108.7663483 , 108.90525171, 106.95779233, 106.89354805,\n",
       "       106.78451682, 107.03851376, 104.89266351, 100.41313862,\n",
       "       101.59218432, 102.31904801, 101.67181176, 102.4164598 ,\n",
       "       102.1668938 , 100.65015432, 100.11142136, 100.04537806,\n",
       "        98.70161351,  97.78948285,  95.72452936,  95.76517422,\n",
       "        94.90872234,  93.51409456,  95.19466157,  96.45062125,\n",
       "        96.30741226,  96.66427695,  96.61258125,  95.0321422 ,\n",
       "        96.18780683,  97.16506014,  97.11713721,  97.91308603,\n",
       "        97.58376146,  96.79889853,  97.57109312,  96.69249775,\n",
       "        95.92487999,  98.05108654,  96.80911458,  95.7028094 ,\n",
       "        95.40881531,  95.55957882,  94.32531941,  92.21157136,\n",
       "        92.1775805 ,  93.10150157,  92.892531  ,  92.68070185,\n",
       "        90.19635994,  91.99093744,  93.21435321,  94.76633201,\n",
       "        92.63601177,  95.21153618,  94.86469925,  95.47824144,\n",
       "        97.57446542,  97.37591488,  97.56138361,  97.1367155 ,\n",
       "        97.07093519,  94.84146372,  95.30156537,  92.64585619,\n",
       "        93.91272989,  93.45570744,  93.71385627,  93.47771846,\n",
       "        95.02336481,  94.22786159,  94.40380474,  92.50479233,\n",
       "        92.42468579,  91.14961805,  92.58195245,  92.31928061,\n",
       "        91.08074623,  90.52477913,  90.66319315,  91.01955451,\n",
       "        90.93414974,  91.28758695,  91.17409378,  89.48601374,\n",
       "        87.43088155,  89.06009585,  90.82340047,  90.99668026])"
      ]
     },
     "execution_count": 3,
     "metadata": {},
     "output_type": "execute_result"
    }
   ],
   "source": [
    "import numpy as np\n",
    "\n",
    "S_path(x, r, sigma, t, T, 252)"
   ]
  },
  {
   "cell_type": "markdown",
   "id": "e78ac0ac",
   "metadata": {},
   "source": [
    "### (c)"
   ]
  },
  {
   "cell_type": "code",
   "execution_count": 4,
   "id": "9666f809",
   "metadata": {},
   "outputs": [],
   "source": [
    "def down_and_out_call(path, K, B):\n",
    "    if np.all(path > B):\n",
    "        return max(path[-1] - K,0)\n",
    "    else:\n",
    "        return 0"
   ]
  },
  {
   "cell_type": "code",
   "execution_count": 5,
   "id": "fe176e9b",
   "metadata": {},
   "outputs": [
    {
     "data": {
      "text/plain": [
       "0"
      ]
     },
     "execution_count": 5,
     "metadata": {},
     "output_type": "execute_result"
    }
   ],
   "source": [
    "down_and_out_call(S_path(x, r, sigma, t, T, 252), 110, 80)"
   ]
  },
  {
   "cell_type": "markdown",
   "id": "7ffb6c66",
   "metadata": {},
   "source": [
    "### (d)"
   ]
  },
  {
   "cell_type": "code",
   "execution_count": 6,
   "id": "8948e358",
   "metadata": {},
   "outputs": [],
   "source": [
    "def simul(N_p, S0=100, r=0.02, sigma=0.2, t=0, T=1, N=252, B=80, K=110):\n",
    "    val = 0\n",
    "    for i in range(N_p):\n",
    "        path = S_path(S0, r, sigma, t, T, N)\n",
    "        val += down_and_out_call(path, K, B)\n",
    "    \n",
    "    return np.exp(-r*(T-t)) * val / N_p"
   ]
  },
  {
   "cell_type": "code",
   "execution_count": 7,
   "id": "091ece9a",
   "metadata": {},
   "outputs": [
    {
     "name": "stdout",
     "output_type": "stream",
     "text": [
      "The price is 4.91.\n"
     ]
    }
   ],
   "source": [
    "price = simul(100000)\n",
    "\n",
    "print(f\"The price is {np.round(price, 2)}.\")"
   ]
  },
  {
   "cell_type": "markdown",
   "id": "4b9f9da7",
   "metadata": {},
   "source": [
    "## Using the PDE\n",
    "\n",
    "### (e)\n",
    "\n",
    "Note that $\\tau \\leq T$. If $\\tau < T$,\n",
    "\n",
    "$$\n",
    "\\phi(y, \\tau)=0.\n",
    "$$\n",
    "\n",
    "If $\\tau = T$,\n",
    "\n",
    "$$\n",
    "\\phi(y, \\tau)=(y-K)_{+}\n",
    "$$\n",
    "\n",
    "The payoff of the down-and-out call given the stopping time is $\\phi(y,s)$ where $s$ is the stopping time. This payoff function is equivalent to the payoff function given in (a). The value of any (stochasctic) asset is the discounted expected value of its payoff. Thus,\n",
    "\n",
    "$$\n",
    "v_t = \\mathbb{E}[e^{-r(\\tau-t)}\\phi(S_\\tau, \\tau)|S_t=x]\n",
    "$$"
   ]
  },
  {
   "cell_type": "markdown",
   "id": "72c7190a",
   "metadata": {},
   "source": [
    "### (m)"
   ]
  },
  {
   "cell_type": "code",
   "execution_count": 21,
   "id": "5c8c247e",
   "metadata": {},
   "outputs": [],
   "source": [
    "t = 0\n",
    "T = 1\n",
    "r = 0.02\n",
    "sigma = 0.2\n",
    "B = 80\n",
    "K = 110"
   ]
  },
  {
   "cell_type": "code",
   "execution_count": 22,
   "id": "9ab71ce2",
   "metadata": {},
   "outputs": [],
   "source": [
    "R = 300\n",
    "N_x = 2200\n",
    "N_t = 252\n",
    "dt = (T - t) / N_t\n",
    "dx = (R - B) / N_x"
   ]
  },
  {
   "cell_type": "code",
   "execution_count": 23,
   "id": "1e639afe",
   "metadata": {},
   "outputs": [
    {
     "name": "stderr",
     "output_type": "stream",
     "text": [
      "100%|████████████████████████████████████████████████████████████████████████████████| 252/252 [01:54<00:00,  2.21it/s]\n"
     ]
    }
   ],
   "source": [
    "from tqdm import tqdm\n",
    "\n",
    "t = T\n",
    "x = np.linspace(B, R, N_x + 1)\n",
    "V = np.maximum(x - K, 0)\n",
    "\n",
    "M = np.zeros((N_x + 1, N_x + 1))\n",
    "\n",
    "M[0, 0] = 1\n",
    "M[-1, -1] = 1\n",
    "\n",
    "alpha = -dt * (r * x / (2 * dx) + (sigma**2) * (x**2) / (2 * (dx**2)))\n",
    "beta = 1 + r * dt + (sigma**2) * dt / (dx**2) * (x**2)\n",
    "gamma = -dt * (-r * x / (2 * dx) + (sigma**2) * (x**2) / (2 * (dx**2)))\n",
    "\n",
    "np.fill_diagonal(M[1:-1, 2:], alpha)\n",
    "np.fill_diagonal(M[1:-1, 1:], beta)\n",
    "np.fill_diagonal(M[1:-1, 0:], gamma)\n",
    "\n",
    "for i in tqdm(range(N_t, 0, -1)):\n",
    "    C = np.append(np.zeros(N_x), np.exp(-r * (T - t + dt)) * K - np.exp(-r * (T - t)) * K)\n",
    "    t -= dt\n",
    "    \n",
    "    V = np.linalg.inv(M) @ V + C"
   ]
  },
  {
   "cell_type": "code",
   "execution_count": 24,
   "id": "71bfface",
   "metadata": {},
   "outputs": [],
   "source": [
    "# when initial price 100\n",
    "x_idx = np.argmin(np.abs(x-100))\n",
    "\n",
    "V_0 = V[x_idx]"
   ]
  },
  {
   "cell_type": "code",
   "execution_count": 25,
   "id": "a41c87d2",
   "metadata": {},
   "outputs": [
    {
     "data": {
      "text/plain": [
       "4.908944853216507"
      ]
     },
     "execution_count": 25,
     "metadata": {},
     "output_type": "execute_result"
    }
   ],
   "source": [
    "V_0"
   ]
  },
  {
   "cell_type": "markdown",
   "id": "cf8a9067",
   "metadata": {},
   "source": [
    "### (n)"
   ]
  },
  {
   "cell_type": "code",
   "execution_count": 26,
   "id": "c02ffe83",
   "metadata": {},
   "outputs": [
    {
     "name": "stdout",
     "output_type": "stream",
     "text": [
      "f_t\n"
     ]
    },
    {
     "data": {
      "text/latex": [
       "$\\displaystyle \\left(\\frac{x}{B}\\right)^{2 a} \\frac{\\partial}{\\partial t} c{\\left(t,q{\\left(x \\right)} \\right)}$"
      ],
      "text/plain": [
       "(x/B)**(2*a)*Derivative(c(t, q(x)), t)"
      ]
     },
     "metadata": {},
     "output_type": "display_data"
    },
    {
     "name": "stdout",
     "output_type": "stream",
     "text": [
      "f_x\n"
     ]
    },
    {
     "data": {
      "text/latex": [
       "$\\displaystyle \\frac{2 a \\left(\\frac{x}{B}\\right)^{2 a} c{\\left(t,q{\\left(x \\right)} \\right)}}{x} + \\left(\\frac{x}{B}\\right)^{2 a} \\frac{\\partial}{\\partial q{\\left(x \\right)}} c{\\left(t,q{\\left(x \\right)} \\right)} \\frac{d}{d x} q{\\left(x \\right)}$"
      ],
      "text/plain": [
       "2*a*(x/B)**(2*a)*c(t, q(x))/x + (x/B)**(2*a)*Derivative(c(t, q(x)), q(x))*Derivative(q(x), x)"
      ]
     },
     "metadata": {},
     "output_type": "display_data"
    },
    {
     "name": "stdout",
     "output_type": "stream",
     "text": [
      "f_xx\n"
     ]
    },
    {
     "data": {
      "text/latex": [
       "$\\displaystyle \\frac{4 a^{2} \\left(\\frac{x}{B}\\right)^{2 a} c{\\left(t,q{\\left(x \\right)} \\right)}}{x^{2}} + \\frac{4 a \\left(\\frac{x}{B}\\right)^{2 a} \\frac{\\partial}{\\partial q{\\left(x \\right)}} c{\\left(t,q{\\left(x \\right)} \\right)} \\frac{d}{d x} q{\\left(x \\right)}}{x} - \\frac{2 a \\left(\\frac{x}{B}\\right)^{2 a} c{\\left(t,q{\\left(x \\right)} \\right)}}{x^{2}} + \\left(\\frac{x}{B}\\right)^{2 a} \\frac{\\partial}{\\partial q{\\left(x \\right)}} c{\\left(t,q{\\left(x \\right)} \\right)} \\frac{d^{2}}{d x^{2}} q{\\left(x \\right)} + \\left(\\frac{x}{B}\\right)^{2 a} \\frac{\\partial^{2}}{\\partial q{\\left(x \\right)}^{2}} c{\\left(t,q{\\left(x \\right)} \\right)} \\left(\\frac{d}{d x} q{\\left(x \\right)}\\right)^{2}$"
      ],
      "text/plain": [
       "4*a**2*(x/B)**(2*a)*c(t, q(x))/x**2 + 4*a*(x/B)**(2*a)*Derivative(c(t, q(x)), q(x))*Derivative(q(x), x)/x - 2*a*(x/B)**(2*a)*c(t, q(x))/x**2 + (x/B)**(2*a)*Derivative(c(t, q(x)), q(x))*Derivative(q(x), (x, 2)) + (x/B)**(2*a)*Derivative(c(t, q(x)), (q(x), 2))*Derivative(q(x), x)**2"
      ]
     },
     "metadata": {},
     "output_type": "display_data"
    }
   ],
   "source": [
    "from sympy import symbols, Function, diff, pprint\n",
    "from IPython.display import display\n",
    "\n",
    "# Define the variable\n",
    "x = symbols('x')\n",
    "t = symbols('t')\n",
    "B = symbols('B')\n",
    "a = symbols('a')\n",
    "\n",
    "q = Function('q')(x)\n",
    "c = Function('c')(t, q)\n",
    "f = Function('f')(t, x)\n",
    "\n",
    "q = B**2 / x\n",
    "f = (x / B)**(2*a) * c\n",
    "\n",
    "f_t = diff(f, t)\n",
    "f_x = diff(f, x)\n",
    "f_xx = diff(f_x, x)\n",
    "\n",
    "print(\"f_t\")\n",
    "display(f_t)\n",
    "print(\"f_x\")\n",
    "display(f_x)\n",
    "print(\"f_xx\")\n",
    "display(f_xx)"
   ]
  },
  {
   "cell_type": "code",
   "execution_count": 27,
   "id": "4fc2f820",
   "metadata": {},
   "outputs": [
    {
     "data": {
      "text/latex": [
       "$\\displaystyle r x \\left(\\frac{2 a \\left(\\frac{x}{B}\\right)^{2 a} c{\\left(t,q{\\left(x \\right)} \\right)}}{x} + \\left(\\frac{x}{B}\\right)^{2 a} \\frac{\\partial}{\\partial q{\\left(x \\right)}} c{\\left(t,q{\\left(x \\right)} \\right)} \\frac{d}{d x} q{\\left(x \\right)}\\right) - r \\left(\\frac{x}{B}\\right)^{2 a} c{\\left(t,q{\\left(x \\right)} \\right)} + 0.5 \\sigma^{2} x^{2} \\cdot \\left(\\frac{4 a^{2} \\left(\\frac{x}{B}\\right)^{2 a} c{\\left(t,q{\\left(x \\right)} \\right)}}{x^{2}} + \\frac{4 a \\left(\\frac{x}{B}\\right)^{2 a} \\frac{\\partial}{\\partial q{\\left(x \\right)}} c{\\left(t,q{\\left(x \\right)} \\right)} \\frac{d}{d x} q{\\left(x \\right)}}{x} - \\frac{2 a \\left(\\frac{x}{B}\\right)^{2 a} c{\\left(t,q{\\left(x \\right)} \\right)}}{x^{2}} + \\left(\\frac{x}{B}\\right)^{2 a} \\frac{\\partial}{\\partial q{\\left(x \\right)}} c{\\left(t,q{\\left(x \\right)} \\right)} \\frac{d^{2}}{d x^{2}} q{\\left(x \\right)} + \\left(\\frac{x}{B}\\right)^{2 a} \\frac{\\partial^{2}}{\\partial q{\\left(x \\right)}^{2}} c{\\left(t,q{\\left(x \\right)} \\right)} \\left(\\frac{d}{d x} q{\\left(x \\right)}\\right)^{2}\\right) + \\left(\\frac{x}{B}\\right)^{2 a} \\frac{\\partial}{\\partial t} c{\\left(t,q{\\left(x \\right)} \\right)}$"
      ],
      "text/plain": [
       "r*x*(2*a*(x/B)**(2*a)*c(t, q(x))/x + (x/B)**(2*a)*Derivative(c(t, q(x)), q(x))*Derivative(q(x), x)) - r*(x/B)**(2*a)*c(t, q(x)) + 0.5*sigma**2*x**2*(4*a**2*(x/B)**(2*a)*c(t, q(x))/x**2 + 4*a*(x/B)**(2*a)*Derivative(c(t, q(x)), q(x))*Derivative(q(x), x)/x - 2*a*(x/B)**(2*a)*c(t, q(x))/x**2 + (x/B)**(2*a)*Derivative(c(t, q(x)), q(x))*Derivative(q(x), (x, 2)) + (x/B)**(2*a)*Derivative(c(t, q(x)), (q(x), 2))*Derivative(q(x), x)**2) + (x/B)**(2*a)*Derivative(c(t, q(x)), t)"
      ]
     },
     "metadata": {},
     "output_type": "display_data"
    }
   ],
   "source": [
    "x = symbols('x')\n",
    "t = symbols('t')\n",
    "B = symbols('B')\n",
    "r = symbols('r')\n",
    "sigma = symbols('sigma')\n",
    "\n",
    "# a = Function('a')(r, sigma)\n",
    "a = symbols('a')\n",
    "q = Function('q')(x)\n",
    "c = Function('c')(t, q)\n",
    "f = Function('f')(t, x)\n",
    "\n",
    "# a = 1 / 2 * (1 - 2*r/sigma**2)\n",
    "q = B**2 / x\n",
    "f = (x / B)**(2*a) * c\n",
    "\n",
    "f_t = diff(f, t)\n",
    "f_x = diff(f, x)\n",
    "f_xx = diff(f_x, x)\n",
    "\n",
    "expression = -r*f + f_t + r*x*f_x + 1 / 2 * sigma**2 * x**2 * f_xx\n",
    "\n",
    "display(expression)\n"
   ]
  },
  {
   "cell_type": "markdown",
   "id": "9a677cca",
   "metadata": {},
   "source": [
    "### (o)"
   ]
  },
  {
   "cell_type": "code",
   "execution_count": 28,
   "id": "559bba47",
   "metadata": {},
   "outputs": [],
   "source": [
    "t = 0\n",
    "T = 1\n",
    "r = 0.02\n",
    "sigma = 0.2\n",
    "x = 100\n",
    "B = 80\n",
    "K = 110"
   ]
  },
  {
   "cell_type": "code",
   "execution_count": 29,
   "id": "aff9082b",
   "metadata": {},
   "outputs": [
    {
     "data": {
      "text/plain": [
       "4.920256808220372"
      ]
     },
     "execution_count": 29,
     "metadata": {},
     "output_type": "execute_result"
    }
   ],
   "source": [
    "# theo price\n",
    "from scipy.stats import norm\n",
    "\n",
    "def c(x, t=t, sigma=sigma, K=K, r=r, T=T):\n",
    "    d1 = (np.log(x / K) + (r + 0.5 * (sigma**2)) * (T-t)) / (sigma * np.sqrt(T-t))\n",
    "    d2 = d1 - sigma * np.sqrt(T-t)\n",
    "    return x * norm.cdf(d1) - K * np.exp(-r * (T-t)) * norm.cdf(d2)\n",
    "\n",
    "def f(x, B=B, t=t, sigma=sigma, K=K, r=r, T=T):\n",
    "    alpha = 0.5 * (1 - 2 * r / sigma**2)\n",
    "    return (x / B)**(2 * alpha) * c(B**2 / x, t, sigma, K, r, T)\n",
    "\n",
    "v = c(x) - f(x)\n",
    "v"
   ]
  },
  {
   "cell_type": "markdown",
   "id": "67651868",
   "metadata": {},
   "source": [
    "#### Monte Carlo\n",
    "\n",
    "- price: 4.908\n",
    "- accuracy: discrete => not bad\n",
    "- speed: slower\n",
    "\n",
    "\n",
    "#### PDE\n",
    "\n",
    "- price: 4.92\n",
    "- accuracy: continuous => better\n",
    "- speed: faster"
   ]
  },
  {
   "cell_type": "markdown",
   "id": "58c631c0",
   "metadata": {},
   "source": [
    "## Bonus Question"
   ]
  },
  {
   "cell_type": "markdown",
   "id": "5b3e75fb",
   "metadata": {},
   "source": [
    "By the put-call symmetry,\n",
    "$$\n",
    "C_K(T, x) = \\sqrt{\\frac{K}{H}}P_H(T, x)\n",
    "$$\n",
    "\n",
    "for $KH = F^2$ where $K, H$ are strikes of the call and put respectively and $F$ is the forward price. \n",
    "\n",
    "If the barrier has not been reached, the option value is equal to the payoff of the call with strike $K$.\n",
    "\n",
    "If the barrier has been reached, we need to adjust the call payoff term at the moment when the barrier is touched.\n",
    "\n",
    "Using the put-call symmetry with the forward price as the barrier $B$, the down-and-out barrier option can be replicated as follows:\n",
    "\n",
    "$$\n",
    "V(T, K, B, x) = C_K(T, x) - \\frac{K}{B}P_{\\frac{B^2}{K}}(T, x)\n",
    "$$.\n",
    "\n",
    "The put can also be replicated with a call and a forward."
   ]
  },
  {
   "cell_type": "code",
   "execution_count": 30,
   "id": "e648bcd0",
   "metadata": {},
   "outputs": [
    {
     "name": "stdout",
     "output_type": "stream",
     "text": [
      "sigma 0.0 theo 20.0 rep_ptf 20.0\n",
      "sigma 0.0 theo 20.0 rep_ptf 20.0\n",
      "sigma 0.1 theo 20.0 rep_ptf 20.0\n",
      "sigma 0.1 theo 20.0 rep_ptf 20.0\n",
      "sigma 0.1 theo 20.0 rep_ptf 20.0\n",
      "sigma 0.2 theo 20.0 rep_ptf 20.0\n",
      "sigma 0.2 theo 20.0 rep_ptf 20.0\n",
      "sigma 0.2 theo 20.0 rep_ptf 20.0\n",
      "sigma 0.3 theo 20.0 rep_ptf 20.0\n",
      "sigma 0.3 theo 20.0 rep_ptf 20.0\n",
      "sigma 0.3 theo 20.0 rep_ptf 20.0\n",
      "sigma 0.3 theo 20.0 rep_ptf 20.0\n",
      "sigma 0.4 theo 20.0 rep_ptf 20.0\n",
      "sigma 0.4 theo 20.0 rep_ptf 20.0\n",
      "sigma 0.4 theo 20.0 rep_ptf 20.0\n",
      "sigma 0.5 theo 20.0 rep_ptf 20.0\n",
      "sigma 0.5 theo 20.0 rep_ptf 20.0\n",
      "sigma 0.5 theo 20.0 rep_ptf 20.0\n",
      "sigma 0.6 theo 20.0 rep_ptf 20.0\n",
      "sigma 0.6 theo 20.0 rep_ptf 20.0\n",
      "sigma 0.6 theo 20.0 rep_ptf 20.0\n",
      "sigma 0.6 theo 20.0 rep_ptf 20.0\n",
      "sigma 0.7 theo 20.0 rep_ptf 20.0\n",
      "sigma 0.7 theo 20.0 rep_ptf 20.0\n",
      "sigma 0.7 theo 20.0 rep_ptf 20.0\n",
      "sigma 0.8 theo 20.0 rep_ptf 20.0\n",
      "sigma 0.8 theo 20.0 rep_ptf 20.0\n",
      "sigma 0.8 theo 20.0 rep_ptf 20.0\n",
      "sigma 0.9 theo 20.0 rep_ptf 20.0\n",
      "sigma 0.9 theo 20.0 rep_ptf 20.0\n",
      "sigma 0.9 theo 20.0 rep_ptf 20.0\n",
      "sigma 0.9 theo 20.0 rep_ptf 20.0\n",
      "sigma 1.0 theo 20.0 rep_ptf 20.0\n",
      "sigma 1.0 theo 20.0 rep_ptf 20.0\n",
      "sigma 1.0 theo 20.0 rep_ptf 20.0\n",
      "sigma 1.1 theo 20.0 rep_ptf 20.0\n",
      "sigma 1.1 theo 20.0 rep_ptf 20.0\n",
      "sigma 1.1 theo 20.0 rep_ptf 20.0\n",
      "sigma 1.2 theo 20.0 rep_ptf 20.0\n",
      "sigma 1.2 theo 20.0 rep_ptf 20.0\n",
      "sigma 1.2 theo 20.0 rep_ptf 20.0\n",
      "sigma 1.2 theo 20.0 rep_ptf 20.0\n",
      "sigma 1.3 theo 20.0 rep_ptf 20.0\n",
      "sigma 1.3 theo 20.0 rep_ptf 20.0\n",
      "sigma 1.3 theo 20.0 rep_ptf 20.0\n",
      "sigma 1.4 theo 20.0 rep_ptf 20.0\n",
      "sigma 1.4 theo 20.0 rep_ptf 20.0\n",
      "sigma 1.4 theo 20.0 rep_ptf 20.0\n",
      "sigma 1.5 theo 20.0 rep_ptf 20.0\n",
      "sigma 1.5 theo 20.0 rep_ptf 20.0\n",
      "sigma 1.5 theo 20.0 rep_ptf 20.0\n",
      "sigma 1.6 theo 20.0 rep_ptf 20.0\n",
      "sigma 1.6 theo 20.0 rep_ptf 20.0\n",
      "sigma 1.6 theo 20.0 rep_ptf 20.0\n",
      "sigma 1.6 theo 20.0 rep_ptf 20.0\n",
      "sigma 1.7 theo 20.0 rep_ptf 20.0\n",
      "sigma 1.7 theo 20.0 rep_ptf 20.0\n",
      "sigma 1.7 theo 20.0 rep_ptf 20.0\n",
      "sigma 1.8 theo 20.0 rep_ptf 20.0\n",
      "sigma 1.8 theo 20.0 rep_ptf 20.0\n",
      "sigma 1.8 theo 20.0 rep_ptf 20.0\n",
      "sigma 1.9 theo 20.0 rep_ptf 20.0\n",
      "sigma 1.9 theo 20.0 rep_ptf 20.0\n",
      "sigma 1.9 theo 20.0 rep_ptf 20.0\n",
      "sigma 1.9 theo 20.0 rep_ptf 20.0\n",
      "sigma 2.0 theo 20.0 rep_ptf 20.0\n",
      "sigma 2.0 theo 20.0 rep_ptf 20.0\n",
      "sigma 2.0 theo 20.0 rep_ptf 20.0\n",
      "sigma 2.1 theo 20.0 rep_ptf 20.0\n",
      "sigma 2.1 theo 20.0 rep_ptf 20.0\n",
      "sigma 2.1 theo 20.0 rep_ptf 20.0\n",
      "sigma 2.2 theo 20.0 rep_ptf 20.0\n",
      "sigma 2.2 theo 20.0 rep_ptf 20.0\n",
      "sigma 2.2 theo 20.0 rep_ptf 20.0\n",
      "sigma 2.2 theo 20.0 rep_ptf 20.0\n",
      "sigma 2.3 theo 20.0 rep_ptf 20.0\n",
      "sigma 2.3 theo 20.0 rep_ptf 20.0\n",
      "sigma 2.3 theo 20.0 rep_ptf 20.0\n",
      "sigma 2.4 theo 20.0 rep_ptf 20.0\n",
      "sigma 2.4 theo 20.0 rep_ptf 20.0\n",
      "sigma 2.4 theo 20.0 rep_ptf 20.0\n",
      "sigma 2.5 theo 20.0 rep_ptf 20.0\n",
      "sigma 2.5 theo 20.0 rep_ptf 20.0\n",
      "sigma 2.5 theo 20.0 rep_ptf 20.0\n",
      "sigma 2.5 theo 20.0 rep_ptf 20.0\n",
      "sigma 2.6 theo 20.0 rep_ptf 20.0\n",
      "sigma 2.6 theo 20.0 rep_ptf 20.0\n",
      "sigma 2.6 theo 20.0 rep_ptf 20.0\n",
      "sigma 2.7 theo 20.0 rep_ptf 20.0\n",
      "sigma 2.7 theo 20.0 rep_ptf 20.0\n",
      "sigma 2.7 theo 20.0 rep_ptf 20.0\n",
      "sigma 2.8 theo 20.0 rep_ptf 20.0\n",
      "sigma 2.8 theo 20.0 rep_ptf 20.0\n",
      "sigma 2.8 theo 20.0 rep_ptf 20.0\n",
      "sigma 2.8 theo 20.0 rep_ptf 20.0\n",
      "sigma 2.9 theo 20.0 rep_ptf 20.0\n",
      "sigma 2.9 theo 20.0 rep_ptf 20.0\n",
      "sigma 2.9 theo 20.0 rep_ptf 20.0\n",
      "sigma 3.0 theo 20.0 rep_ptf 20.0\n",
      "sigma 3.0 theo 20.0 rep_ptf 20.0\n"
     ]
    }
   ],
   "source": [
    "t = 0\n",
    "T = 1\n",
    "r = 0\n",
    "x = 100\n",
    "B = 80\n",
    "K = 80\n",
    "\n",
    "for sigma in np.linspace(0.01, 3, 100):\n",
    "    call = c(x, t=t, sigma=sigma, K=K, r=r, T=T)\n",
    "    theo = call - f(x, B=B, t=t, sigma=sigma, K=K, r=r, T=T)\n",
    "    \n",
    "    rep_put = c(x, t=t, sigma=sigma, K=B**2 / K, r=r, T=T) - x + B**2 / K *np.exp(-r*(T))\n",
    "    rep_ptf = call - K / B * rep_put\n",
    "    \n",
    "    print('sigma', np.round(sigma, 1), 'theo', np.round(theo, 1), 'rep_ptf', np.round(rep_ptf, 1))"
   ]
  },
  {
   "cell_type": "code",
   "execution_count": null,
   "id": "b5b55ecb",
   "metadata": {},
   "outputs": [],
   "source": []
  },
  {
   "cell_type": "code",
   "execution_count": null,
   "id": "54103461",
   "metadata": {},
   "outputs": [],
   "source": []
  },
  {
   "cell_type": "code",
   "execution_count": null,
   "id": "6983b085",
   "metadata": {},
   "outputs": [],
   "source": []
  }
 ],
 "metadata": {
  "kernelspec": {
   "display_name": "Python 3 (ipykernel)",
   "language": "python",
   "name": "python3"
  },
  "language_info": {
   "codemirror_mode": {
    "name": "ipython",
    "version": 3
   },
   "file_extension": ".py",
   "mimetype": "text/x-python",
   "name": "python",
   "nbconvert_exporter": "python",
   "pygments_lexer": "ipython3",
   "version": "3.9.12"
  }
 },
 "nbformat": 4,
 "nbformat_minor": 5
}
